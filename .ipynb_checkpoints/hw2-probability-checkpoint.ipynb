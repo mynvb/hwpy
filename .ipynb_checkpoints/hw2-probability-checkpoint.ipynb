{
 "cells": [
  {
   "cell_type": "markdown",
   "metadata": {},
   "source": [
    "# Домашняя работа №2"
   ]
  },
  {
   "cell_type": "code",
   "execution_count": 1,
   "metadata": {},
   "outputs": [],
   "source": [
    "import pandas as pd\n",
    "from scipy import stats as sts\n",
    "import numpy as np\n",
    "\n",
    "import seaborn as sns\n",
    "from sklearn import datasets\n",
    "from matplotlib import pyplot as plt\n",
    "from statsmodels.distributions.empirical_distribution import ECDF\n",
    "%matplotlib inline"
   ]
  },
  {
   "cell_type": "markdown",
   "metadata": {},
   "source": [
    "## Генеральная совокупность и выборка"
   ]
  },
  {
   "cell_type": "markdown",
   "metadata": {},
   "source": [
    "- Чем отличается генеральная совокупность от выборки?"
   ]
  },
  {
   "cell_type": "code",
   "execution_count": null,
   "metadata": {},
   "outputs": [],
   "source": [
    "#выборка - случайно выбранный набор величин из генеральной совокупности"
   ]
  },
  {
   "cell_type": "markdown",
   "metadata": {},
   "source": [
    "- Если размер выборки больше 200, то такая выборка является репрезентативной?"
   ]
  },
  {
   "cell_type": "code",
   "execution_count": null,
   "metadata": {},
   "outputs": [],
   "source": [
    "'''если такая выборка стратифицированная (случайный выбор из подгрупп ген совокупности), \n",
    "то можно считать ее репрезентативной. Важно, чтобы при этом каждый элемент выборки имел одинаковую вероятность \n",
    "быть отобранным'''"
   ]
  },
  {
   "cell_type": "markdown",
   "metadata": {},
   "source": [
    "- Измерили длину волос футболистов сборной Франции на ЧМ-2018. Что могло являться генеральной совокупностью? Приведите 3 примера."
   ]
  },
  {
   "cell_type": "code",
   "execution_count": null,
   "metadata": {},
   "outputs": [],
   "source": [
    "\"\"\"1 - длина волос всех футболистов на ЧМ-2018\n",
    "2 - длина волос французских футболистов на каждом чемпионате мира\n",
    "3 - длина волос футболистов, участвовавших в матчах за последние 5 лет\"\"\""
   ]
  },
  {
   "cell_type": "markdown",
   "metadata": {},
   "source": [
    "- Пусть генеральная совокупность --- вес детей, родившихся в Волгограде за последние 10 лет. Предложите 2 стратегии, как сгенерировать выборку."
   ]
  },
  {
   "cell_type": "code",
   "execution_count": null,
   "metadata": {},
   "outputs": [],
   "source": [
    "#способ 1 - вес каждого ребенка может попасть в случайную выборку 1 и более раз, способ 2 - не более одного раза"
   ]
  },
  {
   "cell_type": "markdown",
   "metadata": {},
   "source": [
    "## Параметры центра и разброса"
   ]
  },
  {
   "cell_type": "markdown",
   "metadata": {},
   "source": [
    "- Постройте распределение, у которого отсутствует мода.\n"
   ]
  },
  {
   "cell_type": "code",
   "execution_count": 45,
   "metadata": {},
   "outputs": [
    {
     "data": {
      "text/plain": [
       "Text(0.5,0,'$x$')"
      ]
     },
     "execution_count": 45,
     "metadata": {},
     "output_type": "execute_result"
    },
    {
     "data": {
      "image/png": "[encoded data removed]",
      "text/plain": [
       "<Figure size 432x288 with 1 Axes>"
      ]
     },
     "metadata": {
      "needs_background": "light"
     },
     "output_type": "display_data"
    }
   ],
   "source": [
    "#у равномерного распределения отсутствует мода, так как все значения одинаковы  (на примере шестигранного кубика)\n",
    "low, high = 1, 6\n",
    "fig, ax = plt.subplots(1, 1)\n",
    "x = np.arange(low,high+1)\n",
    "ax.plot(x, sts.randint.pmf(x, low, high+1), 'bo', ms=8, label='randint pmf')\n",
    "plt.title(\"PMF (Uniform discrete distribution)\")\n",
    "plt.ylabel('$p(x)$')\n",
    "plt.xlabel('$x$')"
   ]
  },
  {
   "cell_type": "markdown",
   "metadata": {},
   "source": [
    "- Какая из статистик (медиана, матожидание) будет наиболее неустойчивой при выбросах? Проверить на выборке из Гамма-распределения. "
   ]
  },
  {
   "cell_type": "code",
   "execution_count": 58,
   "metadata": {},
   "outputs": [
    {
     "name": "stdout",
     "output_type": "stream",
     "text": [
      "медиана с выбросом: 2.600540408211372, без выброса: 2.666281251229087, матожидание с выбросом: 3.4178312903179244, без выброса: 4.16090010214084\n"
     ]
    }
   ],
   "source": [
    "import random\n",
    "gamma_rv = sts.gamma(3, 1)\n",
    "sample = gamma_rv.rvs(51)\n",
    "med = sorted(sample)[24]\n",
    "mean = sample.mean()\n",
    "\n",
    "#заменяет значение случайного элемента выборки на аномальное\n",
    "overshoot = 40\n",
    "overshoot_num = random.choice(range(0,51))\n",
    "sample[overshoot_num] = overshoot\n",
    "new_med = sorted(sample)[24]\n",
    "new_mean = sample.mean()\n",
    "\n",
    "\n",
    "print('медиана с выбросом: {}, без выброса: {}, матожидание с выбросом: {}, без выброса: {}'.format(med, new_med, mean, new_mean))\n",
    "#наиболее неустойчивая статистика - матожидание"
   ]
  },
  {
   "cell_type": "markdown",
   "metadata": {},
   "source": [
    "- Как изменится матожидание, если к выборке добавить константу $C$? Умножить на $C$. \n",
    "\n",
    "Проверите на выборке из распределения Пуассона"
   ]
  },
  {
   "cell_type": "code",
   "execution_count": 5,
   "metadata": {},
   "outputs": [
    {
     "name": "stdout",
     "output_type": "stream",
     "text": [
      "Матожидание: 2.025, с добавлением константы: 2.525, с умножением на константу: 1.0125\n"
     ]
    }
   ],
   "source": [
    "pois_rv = sts.poisson(2)\n",
    "sample = pois_rv.rvs(1000)\n",
    "C = 0.5\n",
    "#your code here\n",
    "mean = sample.mean()\n",
    "withc_sample = np.array([i+C for i in sample])\n",
    "multc_sample = np.array([i*C for i in sample])\n",
    "mean_with_c = withc_sample.mean()\n",
    "mean_mult_c = multc_sample.mean()\n",
    "\n",
    "print('Матожидание: {}, с добавлением константы: {}, с умножением на константу: {}'.format(mean, mean_with_c, mean_mult_c))"
   ]
  },
  {
   "cell_type": "markdown",
   "metadata": {},
   "source": [
    "- Как изменится дисперсия при добавлении выбросов? Проверьте для распределения экспоненциального распределения"
   ]
  },
  {
   "cell_type": "code",
   "execution_count": 66,
   "metadata": {},
   "outputs": [
    {
     "name": "stdout",
     "output_type": "stream",
     "text": [
      "Дисперсия без выброса: 0.9132742646802374, дисперсия с выбросом: 2.8177044886330664\n"
     ]
    }
   ],
   "source": [
    "exp_rv = sts.expon(4)\n",
    "sample = exp_rv.rvs(50)\n",
    "var = sample.var()\n",
    "\n",
    "#your code here\n",
    "overshoot = sample.mean()+10\n",
    "sample_with_overshoot = np.insert(sample,0,overshoot)\n",
    "new_var = sample_with_overshoot.var()\n",
    "print('Дисперсия без выброса: {}, дисперсия с выбросом: {}'.format(var, new_var))"
   ]
  },
  {
   "cell_type": "markdown",
   "metadata": {},
   "source": [
    "- Что шире: интерквантильный размах ($X_{0.75} - X_{0.25}$) или $(\\bar{X}-s, \\bar{X}+s)$ для $\\mathcal{N}(a, \\sigma^2)$. Посчитайте и сравните эти интервалы для распредения $\\mathcal{N}(3,1)$"
   ]
  },
  {
   "cell_type": "code",
   "execution_count": 105,
   "metadata": {},
   "outputs": [
    {
     "name": "stdout",
     "output_type": "stream",
     "text": [
      "Интерквантильный размах: 1.3913038830158442, указанный промежуток: 1.9868912024436094\n"
     ]
    }
   ],
   "source": [
    "import math\n",
    "norm_rv = sts.norm(3,1)\n",
    "sample = norm_rv.rvs(1000)\n",
    "#your code here\n",
    "q25, q75 = np.percentile(sample, [25,75])\n",
    "\n",
    "iqr = q75 - q25\n",
    "\n",
    "custom_range = sample.var()*2\n",
    "print('Интерквантильный размах: {}, указанный промежуток: {}'.format(iqr, custom_range))"
   ]
  },
  {
   "cell_type": "markdown",
   "metadata": {},
   "source": [
    "## Основные статистики и ЦПТ"
   ]
  },
  {
   "cell_type": "markdown",
   "metadata": {},
   "source": [
    "- Что такое статистика? Посчитайте любую для бета-распределения (1,3)"
   ]
  },
  {
   "cell_type": "code",
   "execution_count": 79,
   "metadata": {},
   "outputs": [
    {
     "data": {
      "text/plain": [
       "(0.2559529193817489, 0.03994519952716737, 0.05761622616598652)"
      ]
     },
     "execution_count": 79,
     "metadata": {},
     "output_type": "execute_result"
    }
   ],
   "source": [
    "#статистики - числовые характеристики определенных признаков, которые используются для последующей разметки данных или подбора параметров распределения\n",
    "beta_rv = sts.beta(1,3)\n",
    "#your code here\n",
    "mean = beta_rv.rvs(100).mean()\n",
    "var = beta_rv.rvs(100).var()\n",
    "med = beta_rv.rvs(100)[49]\n",
    "mean, var, med"
   ]
  },
  {
   "cell_type": "markdown",
   "metadata": {},
   "source": [
    "- Какие статистики являются оценками матожидания, медианы и дисперсии? Посчитайте их для гамма-распределения с параметрами (2, 2)"
   ]
  },
  {
   "cell_type": "code",
   "execution_count": 77,
   "metadata": {},
   "outputs": [
    {
     "data": {
      "text/plain": [
       "(3.9801380939416937, 1.7693166269635576, 2.898491290905171)"
      ]
     },
     "execution_count": 77,
     "metadata": {},
     "output_type": "execute_result"
    }
   ],
   "source": [
    "gamma_rv = sts.gamma(2,2)\n",
    "\n",
    "#your code here\n",
    "mean = gamma_rv.rvs(100).mean()\n",
    "var = gamma_rv.rvs(100).var()\n",
    "med = gamma_rv.rvs(100)[49]\n",
    "mean, var, med"
   ]
  },
  {
   "cell_type": "markdown",
   "metadata": {},
   "source": [
    "- Какое распределение имеет $\\bar{X}$ по ЦПТ? Если исходное распределение $\\mathcal{N}(5, 2)$. Сгенерировать выборки размером 50 из этого распределения и проверить. (построить распределение средних)"
   ]
  },
  {
   "cell_type": "code",
   "execution_count": 20,
   "metadata": {},
   "outputs": [
    {
     "name": "stdout",
     "output_type": "stream",
     "text": [
      "0.20162862499347134\n"
     ]
    },
    {
     "data": {
      "text/plain": [
       "[<matplotlib.lines.Line2D at 0x1a24a35588>]"
      ]
     },
     "execution_count": 20,
     "metadata": {},
     "output_type": "execute_result"
    },
    {
     "data": {
      "image/png": "[encoded data removed]",
      "text/plain": [
       "<Figure size 432x288 with 1 Axes>"
      ]
     },
     "metadata": {
      "needs_background": "light"
     },
     "output_type": "display_data"
    }
   ],
   "source": [
    "#средние выборочные для параметров 5,2 нормального распр. имеют нормальное распределение с параметрами 5 и 0.2, \n",
    "#параметр будет меняться исходя из стандартного отклонения в изначальном распределении\n",
    "norm_rv = sts.norm(5,2)\n",
    "import math\n",
    "dist = np.array([norm_rv.rvs(100).mean() for i in range(10000)])\n",
    "pmf = np.array(dist)\n",
    "plt.hist(pmf, bins=100, density=True)\n",
    "plt.ylabel('fraction of samples')\n",
    "plt.xlabel('$x$')\n",
    "\n",
    "print(math.sqrt(dist.var()))\n",
    "x = np.linspace(dist.min(), dist.max(), 100)\n",
    "plt.plot(x, sts.norm(5, math.sqrt(dist.var())).pdf(x))\n"
   ]
  },
  {
   "cell_type": "markdown",
   "metadata": {},
   "source": [
    "- Сгенерируйте выборки так, чтобы ЦПТ не выполнялось (распределение средних не было похоже нормальное)"
   ]
  },
  {
   "cell_type": "code",
   "execution_count": 41,
   "metadata": {},
   "outputs": [
    {
     "name": "stdout",
     "output_type": "stream",
     "text": [
      "0.18571981275967278\n",
      "0.019344224454830618\n"
     ]
    },
    {
     "data": {
      "text/plain": [
       "[<matplotlib.lines.Line2D at 0x1a25cfc780>]"
      ]
     },
     "execution_count": 41,
     "metadata": {},
     "output_type": "execute_result"
    },
    {
     "data": {
      "image/png": "[encoded data removed]",
      "text/plain": [
       "<Figure size 432x288 with 1 Axes>"
      ]
     },
     "metadata": {
      "needs_background": "light"
     },
     "output_type": "display_data"
    }
   ],
   "source": [
    "#ЦПТ не будет выполняться, например, при малой выборке в выборочных средних \n",
    "norm_rv = sts.beta(1,3)\n",
    "\n",
    "dist = []\n",
    "for i in range(10000):\n",
    "    sample = norm_rv.rvs(100)\n",
    "    x_ = sample.mean()\n",
    "    dist.append(x_)\n",
    "dist = np.array(dist)\n",
    "plt.hist(dist, bins=50, density=True)\n",
    "plt.ylabel('fraction of samples')\n",
    "plt.xlabel('$x$')\n",
    "\n",
    "print(np.median(dist))\n",
    "print(math.sqrt(dist.var()))\n",
    "\n",
    "x = np.linspace(dist.min(), dist.max(), 100)\n",
    "plt.plot(x, sts.norm(np.median(dist), math.sqrt(dist.var())).pdf(x))\n",
    "#при выборке 100 ЦПТ выполняется "
   ]
  },
  {
   "cell_type": "code",
   "execution_count": 46,
   "metadata": {},
   "outputs": [
    {
     "name": "stdout",
     "output_type": "stream",
     "text": [
      "0.23266517417132698\n",
      "0.13530687143632647\n"
     ]
    },
    {
     "data": {
      "text/plain": [
       "[<matplotlib.lines.Line2D at 0x1a25ca05c0>]"
      ]
     },
     "execution_count": 46,
     "metadata": {},
     "output_type": "execute_result"
    },
    {
     "data": {
      "image/png": "[encoded data removed]",
      "text/plain": [
       "<Figure size 432x288 with 1 Axes>"
      ]
     },
     "metadata": {
      "needs_background": "light"
     },
     "output_type": "display_data"
    }
   ],
   "source": [
    "#аналогично при небольшой выборке наблюдаем смещение\n",
    "norm_rv = sts.beta(1,3)\n",
    "\n",
    "dist = []\n",
    "for i in range(10000):\n",
    "    sample = norm_rv.rvs(2)\n",
    "    x_ = sample.mean()\n",
    "    dist.append(x_)\n",
    "dist = np.array(dist)\n",
    "plt.hist(dist, bins=50, density=True)\n",
    "plt.ylabel('fraction of samples')\n",
    "plt.xlabel('$x$')\n",
    "\n",
    "print(np.median(dist))\n",
    "print(math.sqrt(dist.var()))\n",
    "\n",
    "x = np.linspace(dist.min(), dist.max(), 100)\n",
    "plt.plot(x, sts.norm(np.median(dist), math.sqrt(dist.var())).pdf(x))"
   ]
  },
  {
   "cell_type": "markdown",
   "metadata": {},
   "source": [
    "- Сделайте z-преобразование для данного распределения и посчитайте новое матожидание и дисперсию "
   ]
  },
  {
   "cell_type": "code",
   "execution_count": 53,
   "metadata": {},
   "outputs": [
    {
     "name": "stdout",
     "output_type": "stream",
     "text": [
      "0.656628963776091 0.8103264550636928\n",
      "-2.1871393585115584e-16 1.0000000000000002\n"
     ]
    }
   ],
   "source": [
    "expon_rv = sts.expon(3)\n",
    "selection = expon_rv.rvs(100)\n",
    "#исходные параметры\n",
    "\n",
    "var = selection.var()\n",
    "std = var**0.5\n",
    "mean = selection.mean()\n",
    "print(var, std)\n",
    "\n",
    "#преобразование и новые параметры\n",
    "new_selection = np.array([(i-mean)/std for i in selection])\n",
    "print(new_selection.mean(), new_selection.var())"
   ]
  },
  {
   "cell_type": "markdown",
   "metadata": {},
   "source": [
    "## Доверительные интервалы и гипотезы"
   ]
  },
  {
   "cell_type": "markdown",
   "metadata": {},
   "source": [
    "В данных задачах используйте встроенную функцию, позволяющую искать квантили случайной величины **your_rv**.ppf, а также https://gallery.shinyapps.io/dist_calc/ для визуальной картины"
   ]
  },
  {
   "cell_type": "markdown",
   "metadata": {},
   "source": [
    "- Постройте 90% доверительный интервал для среднего значения $\\mathcal{\\chi^2_{10}}$."
   ]
  },
  {
   "cell_type": "code",
   "execution_count": 151,
   "metadata": {},
   "outputs": [
    {
     "name": "stdout",
     "output_type": "stream",
     "text": [
      "Left bound:9.992321380248294, Right bound:10.013024553046096\n"
     ]
    }
   ],
   "source": [
    "df = 10 #degrees of freedom\n",
    "#print('Left bound: {}, Right bound: {}'.format(sts.chi2.ppf(0.025, df), sts.chi2.ppf(0.975, df)))\n",
    "\n",
    "chi2 = sts.chi2(df)\n",
    "dist = []\n",
    "for i in range(10000):\n",
    "    sample = chi2.rvs(50)\n",
    "    x_ = sample.mean()\n",
    "    dist.append(x_)\n",
    "np_dist = np.array(dist)\n",
    "mean = np_dist.mean()\n",
    "var = np_dist.var()\n",
    "se = math.sqrt(var / len(np_dist))\n",
    "print('Left bound:{}, Right bound:{}'.format(mean-1.645*se, mean+1.645*se))"
   ]
  },
  {
   "cell_type": "markdown",
   "metadata": {},
   "source": [
    "- Постройте ДИ для распределения Стьюдента с df = 15 уровня доверия 90%  и 95%. Какой интервал шире?"
   ]
  },
  {
   "cell_type": "code",
   "execution_count": 131,
   "metadata": {},
   "outputs": [
    {
     "name": "stdout",
     "output_type": "stream",
     "text": [
      "95% Left bound: -2.131449545559323, Right bound: 2.131449545559323\n",
      "90% Left bound: -1.7530503556925552, Right bound: 1.7530503556925547\n"
     ]
    }
   ],
   "source": [
    "df = 15\n",
    "print('95% Left bound: {}, Right bound: {}'.format(sts.t.ppf(0.025, df), sts.t.ppf(0.975, df)))\n",
    "print('90% Left bound: {}, Right bound: {}'.format(sts.t.ppf(0.05, df), sts.t.ppf(0.95, df)))"
   ]
  },
  {
   "cell_type": "markdown",
   "metadata": {},
   "source": [
    "- Сгенерируйте 2 выборки с одинаковыми параметрами, отличающиеся в 2 раза по размеру. Постройте 2 90% ДИ. Чем они отличаются? Распределение $\\mathcal{N}(0,2)$ "
   ]
  },
  {
   "cell_type": "code",
   "execution_count": 138,
   "metadata": {},
   "outputs": [
    {
     "name": "stdout",
     "output_type": "stream",
     "text": [
      "confidence int for 50 Left bound: -0.6228562895619892, Right bound: 0.7945061307887541 length of CI 1.4173624203507433\n",
      "confidence int for 100 Left bound: -0.8111457575068795, Right bound: 0.21598598061564106 length of CI 1.0271317381225205\n"
     ]
    }
   ],
   "source": [
    "norm_rv = sts.norm(0, 2)\n",
    "for size in [50,100]:\n",
    "    sample = norm_rv.rvs(size)\n",
    "    mean = sample.mean()\n",
    "    var = sample.var()\n",
    "    se = var / math.sqrt(len(sample))\n",
    "    print('confidence int for',size,'Left bound: {}, Right bound: {}'.format(mean-1.645*se, mean+1.645*se),'length of CI',2*1.645*se)\n",
    "#интервалы разные по ширине, хотя уровень доверия остается прежним (чем меньше выборка, тем больше ДИ)\n"
   ]
  },
  {
   "cell_type": "markdown",
   "metadata": {},
   "source": [
    "- Пусть $H_0: M=100$. Мы получили $p = 0,12$ и не смогли отклонить нулевую гипотезу. Однако позже выяснилось, что среднее в генеральной совокупности равняется 114. Ошибку какого рода мы допустили?"
   ]
  },
  {
   "cell_type": "code",
   "execution_count": null,
   "metadata": {},
   "outputs": [],
   "source": [
    "#допустили ошибку второго рода, так как вынуждены принять ложную гипотезу"
   ]
  },
  {
   "cell_type": "markdown",
   "metadata": {},
   "source": [
    "#### Какие рассуждения относительно p-value верные?\n",
    "\n",
    "- Елси p уровень значимости равен 0,003, то вероятность того, что верна нулевая гипотеза также равняется  0,003.\n",
    "- Если бы в исследовании мы получили $p=0,9$, это означало бы, что верна нулевая гипотеза.\n",
    "- Чем меньше p уровень значимости, тем хуже гипотеза.\n"
   ]
  },
  {
   "cell_type": "code",
   "execution_count": null,
   "metadata": {},
   "outputs": [],
   "source": [
    "'''\n",
    "1 - неверно\n",
    "2 - не обязательно верна. Нам стоит как минимум не отвергать ее\n",
    "3 - неверно'''"
   ]
  },
  {
   "cell_type": "markdown",
   "metadata": {},
   "source": [
    "- Какое $p$-value будете использовать, если отклонять $H_0$ рисковано: $0.05$ или $0.01$? Является ли 99% доверительный интервал хорошей оценкой в общем случае?"
   ]
  },
  {
   "cell_type": "code",
   "execution_count": null,
   "metadata": {},
   "outputs": [],
   "source": [
    "#использовать уровень доверия 99%, то есть, 0.01. Вопрос 2 - ?"
   ]
  },
  {
   "cell_type": "markdown",
   "metadata": {},
   "source": [
    "## Стьюдент и корреляция"
   ]
  },
  {
   "cell_type": "markdown",
   "metadata": {},
   "source": [
    "- Изобразите графики плотности распределения Стьюдента для нескольких значений df= (5,10, 20, 40) и $\\mathcal{N}(0,1)$. В чем отличия?"
   ]
  },
  {
   "cell_type": "code",
   "execution_count": 150,
   "metadata": {},
   "outputs": [
    {
     "data": {
      "text/plain": [
       "<matplotlib.legend.Legend at 0x1a1f923f28>"
      ]
     },
     "execution_count": 150,
     "metadata": {},
     "output_type": "execute_result"
    },
    {
     "data": {
      "image/png": "[encoded data removed]",
      "text/plain": [
       "<Figure size 1080x576 with 1 Axes>"
      ]
     },
     "metadata": {
      "needs_background": "light"
     },
     "output_type": "display_data"
    }
   ],
   "source": [
    "df = [5,10,20,40]\n",
    "plt.figure(figsize=(15,8))\n",
    "x = np.linspace(-4,4,100)\n",
    "for i in df:\n",
    "    student = sts.t(i).pdf(x)\n",
    "    plt.plot(x, student)\n",
    "\n",
    "norm = sts.norm(0,1).pdf(x)\n",
    "plt.plot(x, norm)\n",
    "\n",
    "plt.legend(['Student df=5', 'Student df=10', 'Student df=20', 'Student df=40', 'norm a=0, sigma=1'])\n"
   ]
  },
  {
   "cell_type": "markdown",
   "metadata": {},
   "source": [
    "- Постройте две выборки, чтобы их корреляция была равна -1. Изобразите зависимость на графике."
   ]
  },
  {
   "cell_type": "code",
   "execution_count": null,
   "metadata": {},
   "outputs": [],
   "source": [
    "#your code here"
   ]
  },
  {
   "cell_type": "markdown",
   "metadata": {},
   "source": [
    "- Постройте две выборки, чтобы их корреляция была равна 0. Изобразите зависимость на графике."
   ]
  },
  {
   "cell_type": "code",
   "execution_count": null,
   "metadata": {},
   "outputs": [],
   "source": [
    "#your code here"
   ]
  },
  {
   "cell_type": "markdown",
   "metadata": {},
   "source": [
    "- Сгенерируйте 2 выборки из $\\mathcal{N}(4,2)$, посчитайте их общий ранг и сумму рангов в каждой выборке."
   ]
  },
  {
   "cell_type": "code",
   "execution_count": 160,
   "metadata": {},
   "outputs": [
    {
     "name": "stdout",
     "output_type": "stream",
     "text": [
      "19900 9618 10282\n"
     ]
    }
   ],
   "source": [
    "norm_rv = sts.norm(4,2)\n",
    "sample_1 = norm_rv.rvs(100)\n",
    "sample_2 = norm_rv.rvs(100)\n",
    "sample = np.concatenate((sample_1, sample_2))\n",
    "\n",
    "ranked = list(enumerate(sorted(sample)))\n",
    "sum1 = sum2 = gen_sum = 0\n",
    "for el in ranked:\n",
    "    if el[1] in sample_1:\n",
    "        sum1 += el[0] #sum of ranks\n",
    "    else:\n",
    "        sum2 += el[0]\n",
    "    gen_sum += el[0]\n",
    "print(gen_sum, sum1, sum2)"
   ]
  },
  {
   "cell_type": "code",
   "execution_count": null,
   "metadata": {},
   "outputs": [],
   "source": []
  }
 ],
 "metadata": {
  "kernelspec": {
   "display_name": "Python 3",
   "language": "python",
   "name": "python3"
  },
  "language_info": {
   "codemirror_mode": {
    "name": "ipython",
    "version": 3
   },
   "file_extension": ".py",
   "mimetype": "text/x-python",
   "name": "python",
   "nbconvert_exporter": "python",
   "pygments_lexer": "ipython3",
   "version": "3.7.2"
  }
 },
 "nbformat": 4,
 "nbformat_minor": 2
}
