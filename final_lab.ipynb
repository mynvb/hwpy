{
 "cells": [
  {
   "cell_type": "code",
   "execution_count": 155,
   "metadata": {},
   "outputs": [
    {
     "name": "stdout",
     "output_type": "stream",
     "text": [
      "50\n"
     ]
    }
   ],
   "source": [
    "lst = range(5, 15)\n",
    "sum = 0\n",
    "for i in lst:\n",
    "    if i > 10:\n",
    "        sum = sum + i\n",
    "print(sum)"
   ]
  },
  {
   "cell_type": "code",
   "execution_count": 156,
   "metadata": {},
   "outputs": [
    {
     "name": "stdout",
     "output_type": "stream",
     "text": [
      "cslnjfsnr\n"
     ]
    }
   ],
   "source": [
    "exmpl = ['fsnkc', 'cslnjfsnr']\n",
    "for i in exmpl:\n",
    "    if i[len(i)-1] == 'r':\n",
    "        print(i)\n",
    "    "
   ]
  },
  {
   "cell_type": "code",
   "execution_count": 157,
   "metadata": {},
   "outputs": [
    {
     "data": {
      "text/plain": [
       "'156323'"
      ]
     },
     "execution_count": 157,
     "metadata": {},
     "output_type": "execute_result"
    }
   ],
   "source": [
    "from random import random, choice, randrange\n",
    "\n",
    "def rand_str():\n",
    "    #параметры формируемой строки\n",
    "    size = 6\n",
    "    check = 3 #число, которое должно быть в строке\n",
    "    #список соответствующего размера\n",
    "    nums = list(range(0, size))\n",
    "    #формирование случайного списка\n",
    "    for i in range(0, size):\n",
    "        nums[i] = round(randrange(10))\n",
    "    #если в списке нет числа, алгоритм случайным образом выберет элемент списка и преобразует в это число\n",
    "    if check not in nums:\n",
    "        position = choice(range(0, size))\n",
    "        diff = nums[position] - 3\n",
    "        nums[position] = nums[position] - diff\n",
    "    #строка из сформированного списка\n",
    "    nums_str = [str(i) for i in nums]\n",
    "    result = None\n",
    "    for element in nums_str:\n",
    "        if result is None:\n",
    "            result = element\n",
    "        else: result = result + element\n",
    "    return result\n",
    "    \n",
    "\n",
    "rand_str()"
   ]
  },
  {
   "cell_type": "code",
   "execution_count": 158,
   "metadata": {
    "scrolled": true
   },
   "outputs": [
    {
     "name": "stdout",
     "output_type": "stream",
     "text": [
      "В строке 3 слов(а) и 29 символов (включая пробелы)\n"
     ]
    }
   ],
   "source": [
    "string = 'gu6rd4r6/..l,mu7 mmrryy rudnc'\n",
    "len_words = len(string.split(' '))\n",
    "      \n",
    "print('В строке {} слов(а) и {} символов (включая пробелы)'.format(len_words, len(string)))"
   ]
  },
  {
   "cell_type": "code",
   "execution_count": 159,
   "metadata": {},
   "outputs": [
    {
     "data": {
      "text/plain": [
       "9"
      ]
     },
     "execution_count": 159,
     "metadata": {},
     "output_type": "execute_result"
    }
   ],
   "source": [
    "def generate_matrix(rows, columns):\n",
    "    if columns is None:\n",
    "        columns = rows\n",
    "    matrix = list(range(rows))\n",
    "    for index in range(rows):\n",
    "        matrix[index] = list(range(columns))\n",
    "    return matrix\n",
    "def sum_elements(inp):\n",
    "    sum_elts = 0\n",
    "    for i in inp:\n",
    "        for j in i:\n",
    "            sum_elts = sum_elts + j\n",
    "    return sum_elts\n",
    "\n",
    "sum_elements(generate_matrix(columns = 3, rows = 3))"
   ]
  },
  {
   "cell_type": "code",
   "execution_count": 160,
   "metadata": {},
   "outputs": [
    {
     "data": {
      "text/plain": [
       "'Максимальная сумма значений 12 в столбце 5'"
      ]
     },
     "execution_count": 160,
     "metadata": {},
     "output_type": "execute_result"
    }
   ],
   "source": [
    "def max_colms_in_matrix(inp):\n",
    "    columns = list(range(len(inp[0])))\n",
    "    result = dict()\n",
    "    for index in columns:\n",
    "        col_sum = 0\n",
    "        for row in inp:\n",
    "            col_sum = col_sum + row[index]\n",
    "        result[index] = col_sum\n",
    "    return result\n",
    "\n",
    "def sort_dict(inp):\n",
    "    max_value = 0\n",
    "    col_number = 0\n",
    "    for key, value in inp.items():\n",
    "        if value > max_value:\n",
    "            col_number = key\n",
    "            max_value = value\n",
    "    return 'Максимальная сумма значений {} в столбце {}'.format(max_value, key+1)\n",
    "\n",
    "sort_dict(max_colms_in_matrix(generate_matrix(columns = 5, rows = 3)))"
   ]
  },
  {
   "cell_type": "code",
   "execution_count": 161,
   "metadata": {},
   "outputs": [
    {
     "data": {
      "text/plain": [
       "{1: ['THN', 23, 1], 2: ['NJ', 43, 2], 3: ['EVD', 22, 3]}"
      ]
     },
     "execution_count": 161,
     "metadata": {},
     "output_type": "execute_result"
    }
   ],
   "source": [
    "list_of_students = [[1, 'THN', 23,1],[2, 'NJ', 43, 2],[3, 'EVD',\n",
    "22, 3]]\n",
    "def list_to_dict(inp):\n",
    "    dict_of_students = dict()\n",
    "    for i in inp:\n",
    "        dict_of_students[i[0]] = i[1:]\n",
    "    return dict_of_students\n",
    "list_to_dict(list_of_students)"
   ]
  },
  {
   "cell_type": "code",
   "execution_count": 162,
   "metadata": {},
   "outputs": [
    {
     "name": "stdout",
     "output_type": "stream",
     "text": [
      "Введите ФИО студента: \n"
     ]
    },
    {
     "data": {
      "text/plain": [
       "{1: ['THN', 23, 1], 2: ['NJ', 43, 2], 3: ['EVD', 22, 3]}"
      ]
     },
     "execution_count": 162,
     "metadata": {},
     "output_type": "execute_result"
    }
   ],
   "source": [
    "def change_data(inp):\n",
    "    search = input('Введите ФИО студента: ')\n",
    "    for key, value in inp.items():\n",
    "        if search in value:\n",
    "            print(key, value)\n",
    "            new_group = input('Введите номер новой группы: ')\n",
    "            value[2] = int(new_group)\n",
    "    return inp\n",
    "change_data(list_to_dict(list_of_students))\n"
   ]
  },
  {
   "cell_type": "code",
   "execution_count": 163,
   "metadata": {},
   "outputs": [
    {
     "name": "stdout",
     "output_type": "stream",
     "text": [
      "Введите ФИО студента: \n"
     ]
    },
    {
     "data": {
      "text/plain": [
       "{1: ['THN', 23, 1], 2: ['NJ', 43, 2], 3: ['EVD', 22, 3]}"
      ]
     },
     "execution_count": 163,
     "metadata": {},
     "output_type": "execute_result"
    }
   ],
   "source": [
    "def change_age(inp):\n",
    "    search = input('Введите ФИО студента: ')\n",
    "    for key, value in inp.items():\n",
    "        if search in value:\n",
    "            print(key, value)\n",
    "            new_age = input('Введите обновленный возраст: ')\n",
    "            value[1] = int(new_age)\n",
    "    return inp\n",
    "change_age(list_to_dict(list_of_students))"
   ]
  },
  {
   "cell_type": "code",
   "execution_count": null,
   "metadata": {},
   "outputs": [],
   "source": []
  },
  {
   "cell_type": "code",
   "execution_count": null,
   "metadata": {},
   "outputs": [],
   "source": []
  },
  {
   "cell_type": "code",
   "execution_count": null,
   "metadata": {},
   "outputs": [],
   "source": []
  }
 ],
 "metadata": {
  "kernelspec": {
   "display_name": "Python 3",
   "language": "python",
   "name": "python3"
  },
  "language_info": {
   "codemirror_mode": {
    "name": "ipython",
    "version": 3
   },
   "file_extension": ".py",
   "mimetype": "text/x-python",
   "name": "python",
   "nbconvert_exporter": "python",
   "pygments_lexer": "ipython3",
   "version": "3.7.2"
  }
 },
 "nbformat": 4,
 "nbformat_minor": 2
}
